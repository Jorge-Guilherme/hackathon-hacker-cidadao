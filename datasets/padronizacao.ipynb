{
 "cells": [
  {
   "cell_type": "code",
   "execution_count": 4,
   "metadata": {},
   "outputs": [],
   "source": [
    "# bibliotecas\n",
    "import pandas as pd\n"
   ]
  },
  {
   "cell_type": "code",
   "execution_count": null,
   "metadata": {},
   "outputs": [
    {
     "name": "stdout",
     "output_type": "stream",
     "text": [
      "[{'Unnamed: 0': 0, 'ano': 2023, 'escolas': 'CMEI ANA ROSA FALCAO DE CARVALHO', 'manha': 2, 'tarde': 1, 'noite': 0}, {'Unnamed: 0': 1, 'ano': 2023, 'escolas': 'CMEI DOUTOR ALBERICO DORNELAS CAMARA', 'manha': 1, 'tarde': 1, 'noite': 0}, {'Unnamed: 0': 2, 'ano': 2023, 'escolas': 'CONVENIADA CENTRO EDUCACIONAL CRECHE VOVO ROSA', 'manha': 1, 'tarde': 0, 'noite': 0}, {'Unnamed: 0': 3, 'ano': 2023, 'escolas': 'CRECHE ESC.RECIFE CMEI DARCY RIBEIRO', 'manha': 0, 'tarde': 1, 'noite': 0}, {'Unnamed: 0': 4, 'ano': 2023, 'escolas': 'CRECHE ESC.RECIFE CRECHE ESCOLA DEPUTADO ALCIDES TEIXEIRA', 'manha': 3, 'tarde': 0, 'noite': 0}, {'Unnamed: 0': 5, 'ano': 2023, 'escolas': 'CRECHE ESC.RECIFE CRECHE ESCOLA RECIFE ALTO DO MANDU', 'manha': 1, 'tarde': 0, 'noite': 0}, {'Unnamed: 0': 6, 'ano': 2023, 'escolas': 'CRECHE ESC.RECIFE DO PILAR', 'manha': 0, 'tarde': 2, 'noite': 0}, {'Unnamed: 0': 7, 'ano': 2023, 'escolas': 'CRECHE ESC.RECIFE SERGIO LORETO', 'manha': 1, 'tarde': 1, 'noite': 0}, {'Unnamed: 0': 8, 'ano': 2023, 'escolas': 'CRECHE ESC.RECIFE SITIO DO CARDOSO', 'manha': 0, 'tarde': 1, 'noite': 0}, {'Unnamed: 0': 9, 'ano': 2023, 'escolas': 'CRECHE MUNICIPAL CRECHE MUNICIPAL CEAPE', 'manha': 1, 'tarde': 0, 'noite': 0}, {'Unnamed: 0': 10, 'ano': 2023, 'escolas': 'CRECHE MUNICIPAL PROFESSOR FRANCISCO DO AMARAL LOPES', 'manha': 1, 'tarde': 0, 'noite': 0}, {'Unnamed: 0': 11, 'ano': 2023, 'escolas': 'ESCOLA MUNICIPAL ALMIRANTE SOARES DUTRA', 'manha': 3, 'tarde': 2, 'noite': 0}, {'Unnamed: 0': 12, 'ano': 2023, 'escolas': 'ESCOLA MUNICIPAL ANDRE DE MELO', 'manha': 1, 'tarde': 2, 'noite': 0}, {'Unnamed: 0': 13, 'ano': 2023, 'escolas': 'ESCOLA MUNICIPAL ANTONIO FARIAS FILHO', 'manha': 0, 'tarde': 1, 'noite': 0}, {'Unnamed: 0': 14, 'ano': 2023, 'escolas': 'ESCOLA MUNICIPAL ANTONIO HERACLIO DO REGO', 'manha': 0, 'tarde': 1, 'noite': 2}, {'Unnamed: 0': 15, 'ano': 2023, 'escolas': 'ESCOLA MUNICIPAL ARRAIAL NOVO DO BOM JESUS', 'manha': 3, 'tarde': 3, 'noite': 0}, {'Unnamed: 0': 16, 'ano': 2023, 'escolas': 'ESCOLA MUNICIPAL CAMPINA DO BARRETO', 'manha': 7, 'tarde': 2, 'noite': 0}, {'Unnamed: 0': 17, 'ano': 2023, 'escolas': 'ESCOLA MUNICIPAL CARLUCIO DE SOUZA CASTANHA JUNIOR', 'manha': 1, 'tarde': 1, 'noite': 0}, {'Unnamed: 0': 18, 'ano': 2023, 'escolas': 'ESCOLA MUNICIPAL CELIA ARRAES', 'manha': 1, 'tarde': 1, 'noite': 0}, {'Unnamed: 0': 19, 'ano': 2023, 'escolas': 'ESCOLA MUNICIPAL CHICO MENDES', 'manha': 0, 'tarde': 1, 'noite': 0}, {'Unnamed: 0': 20, 'ano': 2023, 'escolas': 'ESCOLA MUNICIPAL CICERO FRANKLIN CORDEIRO', 'manha': 2, 'tarde': 0, 'noite': 0}, {'Unnamed: 0': 21, 'ano': 2023, 'escolas': 'ESCOLA MUNICIPAL CIDADAO HERBERT DE SOUZA', 'manha': 1, 'tarde': 0, 'noite': 0}, {'Unnamed: 0': 22, 'ano': 2023, 'escolas': 'ESCOLA MUNICIPAL COMPOSITOR CAPIBA', 'manha': 1, 'tarde': 0, 'noite': 0}, {'Unnamed: 0': 23, 'ano': 2023, 'escolas': 'ESCOLA MUNICIPAL COMPOSITOR LEVINO FERREIRA', 'manha': 1, 'tarde': 1, 'noite': 0}, {'Unnamed: 0': 24, 'ano': 2023, 'escolas': 'ESCOLA MUNICIPAL CORREGO DO EUCLIDES', 'manha': 0, 'tarde': 1, 'noite': 0}, {'Unnamed: 0': 25, 'ano': 2023, 'escolas': 'ESCOLA MUNICIPAL CREUSA DE FREITAS CAVALCANTI', 'manha': 0, 'tarde': 3, 'noite': 0}, {'Unnamed: 0': 26, 'ano': 2023, 'escolas': 'ESCOLA MUNICIPAL CRISTIANO CORDEIRO', 'manha': 3, 'tarde': 1, 'noite': 0}, {'Unnamed: 0': 27, 'ano': 2023, 'escolas': 'ESCOLA MUNICIPAL DA GUABIRABA', 'manha': 0, 'tarde': 1, 'noite': 0}, {'Unnamed: 0': 28, 'ano': 2023, 'escolas': 'ESCOLA MUNICIPAL DA IPUTINGA', 'manha': 6, 'tarde': 12, 'noite': 0}, {'Unnamed: 0': 29, 'ano': 2023, 'escolas': 'ESCOLA MUNICIPAL DA MANGABEIRA', 'manha': 1, 'tarde': 0, 'noite': 0}, {'Unnamed: 0': 30, 'ano': 2023, 'escolas': 'ESCOLA MUNICIPAL DARCY RIBEIRO', 'manha': 2, 'tarde': 1, 'noite': 0}, {'Unnamed: 0': 31, 'ano': 2023, 'escolas': 'ESCOLA MUNICIPAL DE AGUA FRIA', 'manha': 1, 'tarde': 2, 'noite': 0}, {'Unnamed: 0': 32, 'ano': 2023, 'escolas': 'ESCOLA MUNICIPAL DE AGUA FRIA - ANEXO', 'manha': 1, 'tarde': 1, 'noite': 0}, {'Unnamed: 0': 33, 'ano': 2023, 'escolas': 'ESCOLA MUNICIPAL DE BEBERIBE', 'manha': 2, 'tarde': 5, 'noite': 0}, {'Unnamed: 0': 34, 'ano': 2023, 'escolas': 'ESCOLA MUNICIPAL DE CASA AMARELA', 'manha': 0, 'tarde': 4, 'noite': 0}, {'Unnamed: 0': 35, 'ano': 2023, 'escolas': 'ESCOLA MUNICIPAL DE TEJIPIO', 'manha': 0, 'tarde': 1, 'noite': 1}, {'Unnamed: 0': 36, 'ano': 2023, 'escolas': 'ESCOLA MUNICIPAL DEOCLECIANO OLIVEIRA DE LIMA', 'manha': 0, 'tarde': 3, 'noite': 0}, {'Unnamed: 0': 37, 'ano': 2023, 'escolas': 'ESCOLA MUNICIPAL DIACONO ABEL GUEIROS', 'manha': 1, 'tarde': 2, 'noite': 0}, {'Unnamed: 0': 38, 'ano': 2023, 'escolas': 'ESCOLA MUNICIPAL DINA DE OLIVEIRA', 'manha': 1, 'tarde': 0, 'noite': 0}, {'Unnamed: 0': 39, 'ano': 2023, 'escolas': 'ESCOLA MUNICIPAL DIVINO ESPIRITO SANTO', 'manha': 4, 'tarde': 4, 'noite': 0}, {'Unnamed: 0': 40, 'ano': 2023, 'escolas': 'ESCOLA MUNICIPAL DO BARRO', 'manha': 1, 'tarde': 0, 'noite': 0}, {'Unnamed: 0': 41, 'ano': 2023, 'escolas': 'ESCOLA MUNICIPAL DO COQUE', 'manha': 0, 'tarde': 2, 'noite': 0}, {'Unnamed: 0': 42, 'ano': 2023, 'escolas': 'ESCOLA MUNICIPAL DOM BOSCO', 'manha': 1, 'tarde': 6, 'noite': 0}, {'Unnamed: 0': 43, 'ano': 2023, 'escolas': 'ESCOLA MUNICIPAL DOM HELDER CAMARA', 'manha': 4, 'tarde': 0, 'noite': 0}, {'Unnamed: 0': 44, 'ano': 2023, 'escolas': 'ESCOLA MUNICIPAL DOUTOR EBENEZER GUEIROS', 'manha': 4, 'tarde': 2, 'noite': 0}, {'Unnamed: 0': 45, 'ano': 2023, 'escolas': 'ESCOLA MUNICIPAL DOUTOR RODOLFO AURELIANO', 'manha': 7, 'tarde': 3, 'noite': 6}, {'Unnamed: 0': 46, 'ano': 2023, 'escolas': 'ESCOLA MUNICIPAL EDITE BRAGA', 'manha': 0, 'tarde': 1, 'noite': 1}, {'Unnamed: 0': 47, 'ano': 2023, 'escolas': 'ESCOLA MUNICIPAL EDUCADOR PAULO FREIRE', 'manha': 1, 'tarde': 0, 'noite': 0}, {'Unnamed: 0': 48, 'ano': 2023, 'escolas': 'ESCOLA MUNICIPAL ENGENHEIRO EDINALDO MIRANDA DE OLIVEIRA', 'manha': 1, 'tarde': 1, 'noite': 0}, {'Unnamed: 0': 49, 'ano': 2023, 'escolas': 'ESCOLA MUNICIPAL ENGENHO DO MEIO', 'manha': 7, 'tarde': 12, 'noite': 5}, {'Unnamed: 0': 50, 'ano': 2023, 'escolas': 'ESCOLA MUNICIPAL FLORESTAN FERNANDES', 'manha': 4, 'tarde': 3, 'noite': 0}, {'Unnamed: 0': 51, 'ano': 2023, 'escolas': 'ESCOLA MUNICIPAL GENERAL EMIDIO DANTAS BARRETO', 'manha': 1, 'tarde': 3, 'noite': 0}, {'Unnamed: 0': 52, 'ano': 2023, 'escolas': 'ESCOLA MUNICIPAL GENERAL SAN MARTIN', 'manha': 2, 'tarde': 1, 'noite': 0}, {'Unnamed: 0': 53, 'ano': 2023, 'escolas': 'ESCOLA MUNICIPAL GOVERNADOR MIGUEL ARRAES DE ALENCAR', 'manha': 0, 'tarde': 1, 'noite': 0}, {'Unnamed: 0': 54, 'ano': 2023, 'escolas': 'ESCOLA MUNICIPAL HENFIL', 'manha': 0, 'tarde': 0, 'noite': 4}, {'Unnamed: 0': 55, 'ano': 2023, 'escolas': 'ESCOLA MUNICIPAL HISTORIADOR FLAVIO GUERRA - ANEXO I', 'manha': 1, 'tarde': 0, 'noite': 0}, {'Unnamed: 0': 56, 'ano': 2023, 'escolas': 'ESCOLA MUNICIPAL HUGO GERDAU', 'manha': 1, 'tarde': 3, 'noite': 0}, {'Unnamed: 0': 57, 'ano': 2023, 'escolas': 'ESCOLA MUNICIPAL INES SOARES DE LIMA', 'manha': 1, 'tarde': 0, 'noite': 0}, {'Unnamed: 0': 58, 'ano': 2023, 'escolas': 'ESCOLA MUNICIPAL ISAAC PEREIRA DA SILVA', 'manha': 0, 'tarde': 2, 'noite': 0}, {'Unnamed: 0': 59, 'ano': 2023, 'escolas': 'ESCOLA MUNICIPAL JADER FIGUEIREDO DE ANDRADE SILVA', 'manha': 0, 'tarde': 1, 'noite': 0}, {'Unnamed: 0': 60, 'ano': 2023, 'escolas': 'ESCOLA MUNICIPAL JADER FIGUEIREDO DE ANDRADE SILVA - ANEX', 'manha': 3, 'tarde': 1, 'noite': 0}, {'Unnamed: 0': 61, 'ano': 2023, 'escolas': 'ESCOLA MUNICIPAL JARDIM UCHOA', 'manha': 0, 'tarde': 1, 'noite': 0}, {'Unnamed: 0': 62, 'ano': 2023, 'escolas': 'ESCOLA MUNICIPAL JOAO PESSOA GUERRA', 'manha': 5, 'tarde': 4, 'noite': 0}, {'Unnamed: 0': 63, 'ano': 2023, 'escolas': 'ESCOLA MUNICIPAL JOAO XXIII', 'manha': 1, 'tarde': 3, 'noite': 0}, {'Unnamed: 0': 64, 'ano': 2023, 'escolas': 'ESCOLA MUNICIPAL KARLA PATRICIA', 'manha': 0, 'tarde': 3, 'noite': 0}, {'Unnamed: 0': 65, 'ano': 2023, 'escolas': 'ESCOLA MUNICIPAL LAGOA ENCANTADA', 'manha': 0, 'tarde': 1, 'noite': 0}, {'Unnamed: 0': 66, 'ano': 2023, 'escolas': 'ESCOLA MUNICIPAL LUIZ VAZ DE CAMOES', 'manha': 0, 'tarde': 0, 'noite': 2}, {'Unnamed: 0': 67, 'ano': 2023, 'escolas': 'ESCOLA MUNICIPAL MAESTRO NELSON FERREIRA', 'manha': 1, 'tarde': 0, 'noite': 0}, {'Unnamed: 0': 68, 'ano': 2023, 'escolas': 'ESCOLA MUNICIPAL MAGALHAES BASTOS', 'manha': 2, 'tarde': 2, 'noite': 0}, {'Unnamed: 0': 69, 'ano': 2023, 'escolas': 'ESCOLA MUNICIPAL MANOEL ANTONIO DE FREITAS', 'manha': 1, 'tarde': 0, 'noite': 0}, {'Unnamed: 0': 70, 'ano': 2023, 'escolas': 'ESCOLA MUNICIPAL MARECHAL RONDON', 'manha': 9, 'tarde': 5, 'noite': 0}, {'Unnamed: 0': 71, 'ano': 2023, 'escolas': 'ESCOLA MUNICIPAL MARIA DE SAMPAIO LUCENA', 'manha': 5, 'tarde': 2, 'noite': 0}, {'Unnamed: 0': 72, 'ano': 2023, 'escolas': 'ESCOLA MUNICIPAL MARIO MELO', 'manha': 4, 'tarde': 9, 'noite': 2}, {'Unnamed: 0': 73, 'ano': 2023, 'escolas': 'ESCOLA MUNICIPAL MAURICIO DE NASSAU', 'manha': 1, 'tarde': 0, 'noite': 0}, {'Unnamed: 0': 74, 'ano': 2023, 'escolas': 'ESCOLA MUNICIPAL MERCIA DE ALBUQUERQUE FERREIRA', 'manha': 0, 'tarde': 2, 'noite': 0}, {'Unnamed: 0': 75, 'ano': 2023, 'escolas': 'ESCOLA MUNICIPAL MONSENHOR VIANA', 'manha': 3, 'tarde': 2, 'noite': 0}, {'Unnamed: 0': 76, 'ano': 2023, 'escolas': 'ESCOLA MUNICIPAL MUNDO ESPERANCA', 'manha': 2, 'tarde': 0, 'noite': 0}, {'Unnamed: 0': 77, 'ano': 2023, 'escolas': 'ESCOLA MUNICIPAL NADIR COLACO', 'manha': 3, 'tarde': 1, 'noite': 0}, {'Unnamed: 0': 78, 'ano': 2023, 'escolas': 'ESCOLA MUNICIPAL NOSSA SENHORA DA PENHA', 'manha': 1, 'tarde': 1, 'noite': 0}, {'Unnamed: 0': 79, 'ano': 2023, 'escolas': 'ESCOLA MUNICIPAL NOSSA SENHORA DO PILAR', 'manha': 1, 'tarde': 3, 'noite': 0}, {'Unnamed: 0': 80, 'ano': 2023, 'escolas': 'ESCOLA MUNICIPAL NOVA DESCOBERTA', 'manha': 2, 'tarde': 1, 'noite': 1}, {'Unnamed: 0': 81, 'ano': 2023, 'escolas': 'ESCOLA MUNICIPAL NOVA MORADA', 'manha': 1, 'tarde': 1, 'noite': 0}, {'Unnamed: 0': 82, 'ano': 2023, 'escolas': 'ESCOLA MUNICIPAL NOVA MORADA - ANEXO I', 'manha': 3, 'tarde': 0, 'noite': 0}, {'Unnamed: 0': 83, 'ano': 2023, 'escolas': 'ESCOLA MUNICIPAL NOVO PINA', 'manha': 0, 'tarde': 1, 'noite': 0}, {'Unnamed: 0': 84, 'ano': 2023, 'escolas': 'ESCOLA MUNICIPAL OLINDINA MONTEIRO DE OLIVEIRA FRANCA', 'manha': 0, 'tarde': 1, 'noite': 0}, {'Unnamed: 0': 85, 'ano': 2023, 'escolas': 'ESCOLA MUNICIPAL OSWALDO LIMA FILHO', 'manha': 2, 'tarde': 1, 'noite': 0}, {'Unnamed: 0': 86, 'ano': 2023, 'escolas': 'ESCOLA MUNICIPAL PADRE ANTONIO HENRIQUE', 'manha': 1, 'tarde': 11, 'noite': 0}, {'Unnamed: 0': 87, 'ano': 2023, 'escolas': 'ESCOLA MUNICIPAL PADRE JOSE DE ANCHIETA', 'manha': 0, 'tarde': 1, 'noite': 0}, {'Unnamed: 0': 88, 'ano': 2023, 'escolas': 'ESCOLA MUNICIPAL PADRE JOSE MATHIAS DELGADO', 'manha': 4, 'tarde': 1, 'noite': 1}, {'Unnamed: 0': 89, 'ano': 2023, 'escolas': 'ESCOLA MUNICIPAL PAROQUIAL CRISTO REI', 'manha': 1, 'tarde': 1, 'noite': 0}, {'Unnamed: 0': 90, 'ano': 2023, 'escolas': 'ESCOLA MUNICIPAL PAULO VI', 'manha': 2, 'tarde': 0, 'noite': 0}, {'Unnamed: 0': 91, 'ano': 2023, 'escolas': 'ESCOLA MUNICIPAL PEDRO ALCANTARA', 'manha': 1, 'tarde': 0, 'noite': 0}, {'Unnamed: 0': 92, 'ano': 2023, 'escolas': 'ESCOLA MUNICIPAL POETA JOAQUIM CARDOSO', 'manha': 0, 'tarde': 1, 'noite': 0}, {'Unnamed: 0': 93, 'ano': 2023, 'escolas': 'ESCOLA MUNICIPAL POETA JONATAS BRAGA', 'manha': 1, 'tarde': 1, 'noite': 0}, {'Unnamed: 0': 94, 'ano': 2023, 'escolas': 'ESCOLA MUNICIPAL POETA PAULO BANDEIRA DA CRUZ', 'manha': 1, 'tarde': 5, 'noite': 0}, {'Unnamed: 0': 95, 'ano': 2023, 'escolas': 'ESCOLA MUNICIPAL POETA SOLANO TRINDADE', 'manha': 1, 'tarde': 1, 'noite': 0}, {'Unnamed: 0': 96, 'ano': 2023, 'escolas': 'ESCOLA MUNICIPAL PROF JANDIRA BOTELHO PEREIRA DA COSTA', 'manha': 1, 'tarde': 2, 'noite': 0}, {'Unnamed: 0': 97, 'ano': 2023, 'escolas': 'ESCOLA MUNICIPAL PROFESSOR ADERBAL GALVAO', 'manha': 2, 'tarde': 1, 'noite': 0}, {'Unnamed: 0': 98, 'ano': 2023, 'escolas': 'ESCOLA MUNICIPAL PROFESSOR ANTONIO DE BRITO ALVES', 'manha': 1, 'tarde': 0, 'noite': 0}, {'Unnamed: 0': 99, 'ano': 2023, 'escolas': 'ESCOLA MUNICIPAL PROFESSOR ENALDO MANOEL DE SOUZA', 'manha': 0, 'tarde': 1, 'noite': 0}, {'Unnamed: 0': 100, 'ano': 2023, 'escolas': 'ESCOLA MUNICIPAL PROFESSOR JOAO BATISTA LIPPO NETO', 'manha': 2, 'tarde': 0, 'noite': 0}, {'Unnamed: 0': 101, 'ano': 2023, 'escolas': 'ESCOLA MUNICIPAL PROFESSOR JOAO FRANCISCO DE SOUZA', 'manha': 2, 'tarde': 2, 'noite': 0}, {'Unnamed: 0': 102, 'ano': 2023, 'escolas': 'ESCOLA MUNICIPAL PROFESSOR JULIO DE OLIVEIRA', 'manha': 1, 'tarde': 0, 'noite': 0}, {'Unnamed: 0': 103, 'ano': 2023, 'escolas': 'ESCOLA MUNICIPAL PROFESSOR MANOEL TORRES', 'manha': 1, 'tarde': 0, 'noite': 0}, {'Unnamed: 0': 104, 'ano': 2023, 'escolas': 'ESCOLA MUNICIPAL PROFESSOR MOACYR DE ALBUQUERQUE', 'manha': 0, 'tarde': 1, 'noite': 0}, {'Unnamed: 0': 105, 'ano': 2023, 'escolas': 'ESCOLA MUNICIPAL PROFESSOR NILO PEREIRA', 'manha': 0, 'tarde': 2, 'noite': 0}, {'Unnamed: 0': 106, 'ano': 2023, 'escolas': 'ESCOLA MUNICIPAL PROFESSOR ORLANDO PARAHYM', 'manha': 1, 'tarde': 0, 'noite': 0}, {'Unnamed: 0': 107, 'ano': 2023, 'escolas': 'ESCOLA MUNICIPAL PROFESSOR RICARDO GAMA', 'manha': 1, 'tarde': 3, 'noite': 0}, {'Unnamed: 0': 108, 'ano': 2023, 'escolas': 'ESCOLA MUNICIPAL PROFESSORA ALMERINDA UMBELINO DE BARROS', 'manha': 4, 'tarde': 8, 'noite': 0}, {'Unnamed: 0': 109, 'ano': 2023, 'escolas': 'ESCOLA MUNICIPAL PROFESSORA HELIA MARIA PEREIRA', 'manha': 0, 'tarde': 1, 'noite': 0}, {'Unnamed: 0': 110, 'ano': 2023, 'escolas': 'ESCOLA MUNICIPAL PROFESSORA MARIA DA PAZ BRANDAO ALVES', 'manha': 1, 'tarde': 2, 'noite': 0}, {'Unnamed: 0': 111, 'ano': 2023, 'escolas': 'ESCOLA MUNICIPAL REITOR JOAO ALFREDO', 'manha': 2, 'tarde': 1, 'noite': 0}, {'Unnamed: 0': 112, 'ano': 2023, 'escolas': 'ESCOLA MUNICIPAL ROZEMAR DE MACEDO LIMA', 'manha': 5, 'tarde': 14, 'noite': 4}, {'Unnamed: 0': 113, 'ano': 2023, 'escolas': 'ESCOLA MUNICIPAL SANTA CECILIA', 'manha': 1, 'tarde': 0, 'noite': 0}, {'Unnamed: 0': 114, 'ano': 2023, 'escolas': 'ESCOLA MUNICIPAL SANTO AMARO', 'manha': 1, 'tarde': 4, 'noite': 0}, {'Unnamed: 0': 115, 'ano': 2023, 'escolas': 'ESCOLA MUNICIPAL SAO CRISTOVAO', 'manha': 6, 'tarde': 10, 'noite': 0}, {'Unnamed: 0': 116, 'ano': 2023, 'escolas': 'ESCOLA MUNICIPAL SEDE DA SABEDORIA', 'manha': 1, 'tarde': 0, 'noite': 0}, {'Unnamed: 0': 117, 'ano': 2023, 'escolas': 'ESCOLA MUNICIPAL SENADOR JOSE ERMIRIO DE MORAES', 'manha': 2, 'tarde': 2, 'noite': 0}, {'Unnamed: 0': 118, 'ano': 2023, 'escolas': 'ESCOLA MUNICIPAL SEVERINA LIRA', 'manha': 2, 'tarde': 2, 'noite': 0}, {'Unnamed: 0': 119, 'ano': 2023, 'escolas': 'ESCOLA MUNICIPAL SITIO DO BERARDO', 'manha': 0, 'tarde': 2, 'noite': 0}, {'Unnamed: 0': 120, 'ano': 2023, 'escolas': 'ESCOLA MUNICIPAL VILA SANTA LUZIA', 'manha': 3, 'tarde': 4, 'noite': 0}, {'Unnamed: 0': 121, 'ano': 2023, 'escolas': 'ESCOLA MUNICIPAL ZUMBI DOS PALMARES', 'manha': 0, 'tarde': 2, 'noite': 1}, {'Unnamed: 0': 122, 'ano': 2023, 'escolas': 'ESCOLA MUNICIPAL POETA JOAO CABRAL DE MELO NETO', 'manha': 0, 'tarde': 1, 'noite': 0}, {'Unnamed: 0': 123, 'ano': 2023, 'escolas': 'PROFESSOR JULIO DE OLIVEIRA', 'manha': 0, 'tarde': 1, 'noite': 0}, {'Unnamed: 0': 124, 'ano': 2023, 'escolas': 'CRECHE MUNICIPAL CEAPE', 'manha': 1, 'tarde': 0, 'noite': 0}, {'Unnamed: 0': 125, 'ano': 2023, 'escolas': 'ESCOLA MUNICIPAL ANEXO CASA AMARELA', 'manha': 0, 'tarde': 1, 'noite': 0}, {'Unnamed: 0': 126, 'ano': 2023, 'escolas': 'ESCOLA MUNICIPAL PRESBITERO JOSE BEZERRA', 'manha': 0, 'tarde': 1, 'noite': 0}]\n"
     ]
    }
   ],
   "source": [
    "# analisando os dados\n",
    "\n",
    "archive_name = '.csv'\n",
    "new_archive_name = '.csv'\n",
    "\n",
    "df = pd.read_csv('archive_name')\n",
    "\n",
    "colums_rename = {} # dicionário com as colunas que serão renomeadas\n",
    "\n",
    "colums_delete = [] # lista com as colunas que serão excluídas\n",
    "\n",
    "df.rename(columns=colums_rename, inplace=True) # renomeando as colunas\n",
    "\n",
    "df.drop(columns=colums_delete, inplace=True) # excluindo algumas colunas\n",
    "\n",
    "df.head() # visualizando os primeiros registros\n",
    "\n",
    "df.to_csv(new_archive_name, index=False) # salvando o novo arquivo\n"
   ]
  },
  {
   "cell_type": "code",
   "execution_count": null,
   "metadata": {},
   "outputs": [
    {
     "name": "stdout",
     "output_type": "stream",
     "text": [
      "([[2, 1, 1, 0, 3, 1, 0, 1, 0, 1, 1, 3, 1, 0, 0, 3, 7, 1, 1, 0, 2, 1, 1, 1, 0, 0, 3, 0, 6, 1, 2, 1, 1, 2, 0, 0, 0, 1, 1, 4, 1, 0, 1, 4, 4, 7, 0, 1, 1, 7, 4, 1, 2, 0, 0, 1, 1, 1, 0, 0, 3, 0, 5, 1, 0, 0, 0, 1, 2, 1, 9, 5, 4, 1, 0, 3, 2, 3, 1, 1, 2, 1, 3, 0, 0, 2, 1, 0, 4, 1, 2, 1, 0, 1, 1, 1, 1, 2, 1, 0, 2, 2, 1, 1, 0, 0, 1, 1, 4, 0, 1, 2, 5, 1, 1, 6, 1, 2, 2, 0, 3, 0, 0, 0, 1, 0, 0], [2, 1, 1, 0, 3, 1, 0, 1, 0, 1, 1, 3, 1, 0, 0, 3, 7, 1, 1, 0, 2, 1, 1, 1, 0, 0, 3, 0, 6, 1, 2, 1, 1, 2, 0, 0, 0, 1, 1, 4, 1, 0, 1, 4, 4, 7, 0, 1, 1, 7, 4, 1, 2, 0, 0, 1, 1, 1, 0, 0, 3, 0, 5, 1, 0, 0, 0, 1, 2, 1, 9, 5, 4, 1, 0, 3, 2, 3, 1, 1, 2, 1, 3, 0, 0, 2, 1, 0, 4, 1, 2, 1, 0, 1, 1, 1, 1, 2, 1, 0, 2, 2, 1, 1, 0, 0, 1, 1, 4, 0, 1, 2, 5, 1, 1, 6, 1, 2, 2, 0, 3, 0, 0, 0, 1, 0, 0]], [])\n"
     ]
    }
   ],
   "source": [
    "# algoritmo de consulta\n",
    "import os\n",
    "\n",
    "def check_dataset(key_words: list) -> list:\n",
    "    route = \".\" # caminho da pasta\n",
    "    datasets = [] # lista de arquivos\n",
    "\n",
    "    # iterando sobre os arquivos da pasta\n",
    "    for file_name in os.listdir(route):\n",
    "        complet_route = os.path.join(route, file_name) # pega o caminho completo do arquivo\n",
    "        \n",
    "        # verificar se é um arquivo\n",
    "        if os.path.isfile(complet_route) and complet_route.endswith(\".csv\"): # verifica se é um arquivo e se é um arquivo csv\n",
    "\n",
    "            # checar o arquivo a partir da palavra chave\n",
    "            for keyword in key_words:\n",
    "                if keyword in file_name: # verifica se a palavra chave bate com algum arquivo\n",
    "                    datasets.append(file_name)\n",
    "            \n",
    "    return datasets\n",
    "\n",
    "def dict_returnal(datasets: list, keywords: list):\n",
    "\n",
    "    columns_return = []\n",
    "    lines_return = []\n",
    "\n",
    "\n",
    "    for dataset in datasets: # iterando sobre os datasets\n",
    "        for keyword in keywords: # iterando sobre as palavras chaves\n",
    "            df = pd.read_csv(dataset)\n",
    "            for columns in df.columns: # iterando sobre as colunas\n",
    "                if keyword in columns:\n",
    "                    columns_return.append(df.columns)\n",
    "            \n",
    "    \n",
    "    return columns_return, lines_return\n",
    "\n",
    "keywords = ['transporte', 'escolar', 'manha'] # palavras chaves para consulta\n",
    "\n",
    "print(dict_returnal(check_dataset(keywords), keywords)) \n",
    "         "
   ]
  },
  {
   "cell_type": "code",
   "execution_count": null,
   "metadata": {},
   "outputs": [],
   "source": []
  }
 ],
 "metadata": {
  "kernelspec": {
   "display_name": "venv",
   "language": "python",
   "name": "python3"
  },
  "language_info": {
   "codemirror_mode": {
    "name": "ipython",
    "version": 3
   },
   "file_extension": ".py",
   "mimetype": "text/x-python",
   "name": "python",
   "nbconvert_exporter": "python",
   "pygments_lexer": "ipython3",
   "version": "3.12.3"
  }
 },
 "nbformat": 4,
 "nbformat_minor": 2
}
